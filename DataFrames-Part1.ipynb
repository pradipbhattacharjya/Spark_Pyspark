{
 "cells": [
  {
   "metadata": {},
   "cell_type": "markdown",
   "source": [
    "- PySpark Dataframe\n",
    "- Reading The Dataset\n",
    "- Checking the Datatypes of the Column(Schema)\n",
    "- Selecting Columns And Indexing\n",
    "- Check Describe option similar to Pandas\n",
    "- Adding Columns\n",
    "- Dropping columns\n",
    "- Renaming Columns\n"
   ],
   "id": "9d2b9eb860279850"
  },
  {
   "cell_type": "code",
   "id": "initial_id",
   "metadata": {
    "collapsed": true,
    "ExecuteTime": {
     "end_time": "2025-09-16T10:01:32.869342Z",
     "start_time": "2025-09-16T10:01:32.865059Z"
    }
   },
   "source": "from pyspark.sql import  SparkSession",
   "outputs": [],
   "execution_count": 3
  },
  {
   "metadata": {
    "ExecuteTime": {
     "end_time": "2025-09-16T10:01:35.249961Z",
     "start_time": "2025-09-16T10:01:34.752110Z"
    }
   },
   "cell_type": "code",
   "source": "spark=SparkSession.builder.appName('Dataframe').getOrCreate()",
   "id": "36529d92eda7d815",
   "outputs": [],
   "execution_count": 4
  },
  {
   "metadata": {
    "ExecuteTime": {
     "end_time": "2025-09-16T10:01:51.351975Z",
     "start_time": "2025-09-16T10:01:51.326308Z"
    }
   },
   "cell_type": "code",
   "source": "spark",
   "id": "27626ce45d411ed3",
   "outputs": [
    {
     "data": {
      "text/plain": [
       "<pyspark.sql.session.SparkSession at 0x23067f9cc20>"
      ],
      "text/html": [
       "\n",
       "            <div>\n",
       "                <p><b>SparkSession - in-memory</b></p>\n",
       "                \n",
       "        <div>\n",
       "            <p><b>SparkContext</b></p>\n",
       "\n",
       "            <p><a href=\"http://pradip:4041\">Spark UI</a></p>\n",
       "\n",
       "            <dl>\n",
       "              <dt>Version</dt>\n",
       "                <dd><code>v4.0.1</code></dd>\n",
       "              <dt>Master</dt>\n",
       "                <dd><code>local[*]</code></dd>\n",
       "              <dt>AppName</dt>\n",
       "                <dd><code>Dataframe</code></dd>\n",
       "            </dl>\n",
       "        </div>\n",
       "        \n",
       "            </div>\n",
       "        "
      ]
     },
     "execution_count": 5,
     "metadata": {},
     "output_type": "execute_result"
    }
   ],
   "execution_count": 5
  },
  {
   "metadata": {
    "ExecuteTime": {
     "end_time": "2025-09-16T10:25:31.236052Z",
     "start_time": "2025-09-16T10:25:31.074068Z"
    }
   },
   "cell_type": "code",
   "source": [
    "#read the dataset\n",
    "df_pyspark = spark.read.option('header','true').csv('test1.csv',inferSchema=True)"
   ],
   "id": "eb4c8195ac2d1ddd",
   "outputs": [],
   "execution_count": 33
  },
  {
   "metadata": {
    "ExecuteTime": {
     "end_time": "2025-09-16T10:07:03.028949Z",
     "start_time": "2025-09-16T10:07:03.021868Z"
    }
   },
   "cell_type": "code",
   "source": [
    "#check the schema\n",
    "df_pyspark.printSchema()"
   ],
   "id": "d45071a2ccb61ee",
   "outputs": [
    {
     "name": "stdout",
     "output_type": "stream",
     "text": [
      "root\n",
      " |-- Name: string (nullable = true)\n",
      " |-- age: integer (nullable = true)\n",
      " |-- Experience: integer (nullable = true)\n",
      " |-- Salary: integer (nullable = true)\n",
      "\n"
     ]
    }
   ],
   "execution_count": 13
  },
  {
   "metadata": {
    "ExecuteTime": {
     "end_time": "2025-09-16T10:09:47.101055Z",
     "start_time": "2025-09-16T10:09:46.525126Z"
    }
   },
   "cell_type": "code",
   "source": [
    "df_pyspark = spark.read.csv('test1.csv',header=True,inferSchema=True)\n",
    "df_pyspark.show()"
   ],
   "id": "3ba1899fcf9f1a6",
   "outputs": [
    {
     "name": "stdout",
     "output_type": "stream",
     "text": [
      "+---------+---+----------+------+\n",
      "|     Name|age|Experience|Salary|\n",
      "+---------+---+----------+------+\n",
      "|    Krish| 31|        10| 30000|\n",
      "|Sudhanshu| 30|         8| 25000|\n",
      "|    Sunny| 29|         4| 20000|\n",
      "|     Paul| 24|         3| 20000|\n",
      "|   Harsha| 21|         1| 15000|\n",
      "|  Shubham| 23|         2| 18000|\n",
      "+---------+---+----------+------+\n",
      "\n"
     ]
    }
   ],
   "execution_count": 14
  },
  {
   "metadata": {
    "ExecuteTime": {
     "end_time": "2025-09-16T10:10:48.412931Z",
     "start_time": "2025-09-16T10:10:48.400340Z"
    }
   },
   "cell_type": "code",
   "source": [
    "#chek the schema\n",
    "df_pyspark.printSchema()"
   ],
   "id": "73308fb4dc5128cd",
   "outputs": [
    {
     "name": "stdout",
     "output_type": "stream",
     "text": [
      "root\n",
      " |-- Name: string (nullable = true)\n",
      " |-- age: integer (nullable = true)\n",
      " |-- Experience: integer (nullable = true)\n",
      " |-- Salary: integer (nullable = true)\n",
      "\n"
     ]
    }
   ],
   "execution_count": 15
  },
  {
   "metadata": {
    "ExecuteTime": {
     "end_time": "2025-09-16T10:11:22.310110Z",
     "start_time": "2025-09-16T10:11:22.291105Z"
    }
   },
   "cell_type": "code",
   "source": "type(df_pyspark)",
   "id": "d6644fa309c59787",
   "outputs": [
    {
     "data": {
      "text/plain": [
       "pyspark.sql.classic.dataframe.DataFrame"
      ]
     },
     "execution_count": 16,
     "metadata": {},
     "output_type": "execute_result"
    }
   ],
   "execution_count": 16
  },
  {
   "metadata": {
    "ExecuteTime": {
     "end_time": "2025-09-16T10:12:15.588068Z",
     "start_time": "2025-09-16T10:12:15.561526Z"
    }
   },
   "cell_type": "code",
   "source": "df_pyspark.columns",
   "id": "87e2f6e962a5102b",
   "outputs": [
    {
     "data": {
      "text/plain": [
       "['Name', 'age', 'Experience', 'Salary']"
      ]
     },
     "execution_count": 17,
     "metadata": {},
     "output_type": "execute_result"
    }
   ],
   "execution_count": 17
  },
  {
   "metadata": {
    "ExecuteTime": {
     "end_time": "2025-09-16T10:12:54.014564Z",
     "start_time": "2025-09-16T10:12:53.645233Z"
    }
   },
   "cell_type": "code",
   "source": "df_pyspark.head(3)",
   "id": "2028bea7537d954",
   "outputs": [
    {
     "data": {
      "text/plain": [
       "[Row(Name='Krish', age=31, Experience=10, Salary=30000),\n",
       " Row(Name='Sudhanshu', age=30, Experience=8, Salary=25000),\n",
       " Row(Name='Sunny', age=29, Experience=4, Salary=20000)]"
      ]
     },
     "execution_count": 18,
     "metadata": {},
     "output_type": "execute_result"
    }
   ],
   "execution_count": 18
  },
  {
   "metadata": {
    "ExecuteTime": {
     "end_time": "2025-09-16T10:13:54.268909Z",
     "start_time": "2025-09-16T10:13:54.163375Z"
    }
   },
   "cell_type": "code",
   "source": "df_pyspark.show()",
   "id": "96714002972829ab",
   "outputs": [
    {
     "name": "stdout",
     "output_type": "stream",
     "text": [
      "+---------+---+----------+------+\n",
      "|     Name|age|Experience|Salary|\n",
      "+---------+---+----------+------+\n",
      "|    Krish| 31|        10| 30000|\n",
      "|Sudhanshu| 30|         8| 25000|\n",
      "|    Sunny| 29|         4| 20000|\n",
      "|     Paul| 24|         3| 20000|\n",
      "|   Harsha| 21|         1| 15000|\n",
      "|  Shubham| 23|         2| 18000|\n",
      "+---------+---+----------+------+\n",
      "\n"
     ]
    }
   ],
   "execution_count": 20
  },
  {
   "metadata": {
    "ExecuteTime": {
     "end_time": "2025-09-16T10:14:35.520814Z",
     "start_time": "2025-09-16T10:14:35.335597Z"
    }
   },
   "cell_type": "code",
   "source": "df_pyspark.select('Name').show()",
   "id": "8ef02c31a401d642",
   "outputs": [
    {
     "name": "stdout",
     "output_type": "stream",
     "text": [
      "+---------+\n",
      "|     Name|\n",
      "+---------+\n",
      "|    Krish|\n",
      "|Sudhanshu|\n",
      "|    Sunny|\n",
      "|     Paul|\n",
      "|   Harsha|\n",
      "|  Shubham|\n",
      "+---------+\n",
      "\n"
     ]
    }
   ],
   "execution_count": 21
  },
  {
   "metadata": {
    "ExecuteTime": {
     "end_time": "2025-09-16T10:14:51.877412Z",
     "start_time": "2025-09-16T10:14:51.855622Z"
    }
   },
   "cell_type": "code",
   "source": "type(df_pyspark.select('Name'))",
   "id": "6cd27c131fc687f0",
   "outputs": [
    {
     "data": {
      "text/plain": [
       "pyspark.sql.classic.dataframe.DataFrame"
      ]
     },
     "execution_count": 22,
     "metadata": {},
     "output_type": "execute_result"
    }
   ],
   "execution_count": 22
  },
  {
   "metadata": {
    "ExecuteTime": {
     "end_time": "2025-09-16T10:15:31.690093Z",
     "start_time": "2025-09-16T10:15:31.504669Z"
    }
   },
   "cell_type": "code",
   "source": "df_pyspark.select('Name','age').show()",
   "id": "f62589b3678110c6",
   "outputs": [
    {
     "name": "stdout",
     "output_type": "stream",
     "text": [
      "+---------+---+\n",
      "|     Name|age|\n",
      "+---------+---+\n",
      "|    Krish| 31|\n",
      "|Sudhanshu| 30|\n",
      "|    Sunny| 29|\n",
      "|     Paul| 24|\n",
      "|   Harsha| 21|\n",
      "|  Shubham| 23|\n",
      "+---------+---+\n",
      "\n"
     ]
    }
   ],
   "execution_count": 23
  },
  {
   "metadata": {
    "ExecuteTime": {
     "end_time": "2025-09-16T10:16:12.289187Z",
     "start_time": "2025-09-16T10:16:12.200671Z"
    }
   },
   "cell_type": "code",
   "source": "df_pyspark['Name']",
   "id": "913ba65223796b4a",
   "outputs": [
    {
     "data": {
      "text/plain": [
       "Column<'Name'>"
      ]
     },
     "execution_count": 24,
     "metadata": {},
     "output_type": "execute_result"
    }
   ],
   "execution_count": 24
  },
  {
   "metadata": {
    "ExecuteTime": {
     "end_time": "2025-09-16T10:16:51.212503Z",
     "start_time": "2025-09-16T10:16:51.196829Z"
    }
   },
   "cell_type": "code",
   "source": "df_pyspark.dtypes",
   "id": "5a64559897541c42",
   "outputs": [
    {
     "data": {
      "text/plain": [
       "[('Name', 'string'), ('age', 'int'), ('Experience', 'int'), ('Salary', 'int')]"
      ]
     },
     "execution_count": 25,
     "metadata": {},
     "output_type": "execute_result"
    }
   ],
   "execution_count": 25
  },
  {
   "metadata": {
    "ExecuteTime": {
     "end_time": "2025-09-16T10:18:09.397462Z",
     "start_time": "2025-09-16T10:18:07.633832Z"
    }
   },
   "cell_type": "code",
   "source": "df_pyspark.describe().show()",
   "id": "b2d9fabf7bb38648",
   "outputs": [
    {
     "name": "stdout",
     "output_type": "stream",
     "text": [
      "+-------+------+------------------+-----------------+------------------+\n",
      "|summary|  Name|               age|       Experience|            Salary|\n",
      "+-------+------+------------------+-----------------+------------------+\n",
      "|  count|     6|                 6|                6|                 6|\n",
      "|   mean|  NULL|26.333333333333332|4.666666666666667|21333.333333333332|\n",
      "| stddev|  NULL| 4.179314138308661|3.559026084010437| 5354.126134736337|\n",
      "|    min|Harsha|                21|                1|             15000|\n",
      "|    max| Sunny|                31|               10|             30000|\n",
      "+-------+------+------------------+-----------------+------------------+\n",
      "\n"
     ]
    }
   ],
   "execution_count": 26
  },
  {
   "metadata": {
    "ExecuteTime": {
     "end_time": "2025-09-16T10:27:34.266397Z",
     "start_time": "2025-09-16T10:27:34.251551Z"
    }
   },
   "cell_type": "code",
   "source": [
    "#adding columns in data frame\n",
    "df_pyspark=df_pyspark.withColumn('age after 2 years', df_pyspark['age']+2)"
   ],
   "id": "ed1d9190d60bd31a",
   "outputs": [],
   "execution_count": 36
  },
  {
   "metadata": {
    "ExecuteTime": {
     "end_time": "2025-09-16T10:28:07.053390Z",
     "start_time": "2025-09-16T10:28:06.960070Z"
    }
   },
   "cell_type": "code",
   "source": "df_pyspark.show()",
   "id": "8452373442ac19c0",
   "outputs": [
    {
     "name": "stdout",
     "output_type": "stream",
     "text": [
      "+---------+---+----------+------+-----------------+\n",
      "|     Name|age|Experience|Salary|age after 2 years|\n",
      "+---------+---+----------+------+-----------------+\n",
      "|    Krish| 31|        10| 30000|               33|\n",
      "|Sudhanshu| 30|         8| 25000|               32|\n",
      "|    Sunny| 29|         4| 20000|               31|\n",
      "|     Paul| 24|         3| 20000|               26|\n",
      "|   Harsha| 21|         1| 15000|               23|\n",
      "|  Shubham| 23|         2| 18000|               25|\n",
      "+---------+---+----------+------+-----------------+\n",
      "\n"
     ]
    }
   ],
   "execution_count": 39
  },
  {
   "metadata": {},
   "cell_type": "markdown",
   "source": "#Droppping columns",
   "id": "8766de560a84562a"
  },
  {
   "metadata": {
    "ExecuteTime": {
     "end_time": "2025-09-16T10:30:51.565835Z",
     "start_time": "2025-09-16T10:30:51.552216Z"
    }
   },
   "cell_type": "code",
   "source": [
    "#Drop the columns\n",
    "df_pyspark= df_pyspark.drop('age after 2 years')"
   ],
   "id": "cc11594c25b9060d",
   "outputs": [],
   "execution_count": 43
  },
  {
   "metadata": {
    "ExecuteTime": {
     "end_time": "2025-09-16T10:30:53.626303Z",
     "start_time": "2025-09-16T10:30:53.533993Z"
    }
   },
   "cell_type": "code",
   "source": "df_pyspark.show()",
   "id": "5bf1c5ec621bd9f8",
   "outputs": [
    {
     "name": "stdout",
     "output_type": "stream",
     "text": [
      "+---------+---+----------+------+\n",
      "|     Name|age|Experience|Salary|\n",
      "+---------+---+----------+------+\n",
      "|    Krish| 31|        10| 30000|\n",
      "|Sudhanshu| 30|         8| 25000|\n",
      "|    Sunny| 29|         4| 20000|\n",
      "|     Paul| 24|         3| 20000|\n",
      "|   Harsha| 21|         1| 15000|\n",
      "|  Shubham| 23|         2| 18000|\n",
      "+---------+---+----------+------+\n",
      "\n"
     ]
    }
   ],
   "execution_count": 44
  },
  {
   "metadata": {},
   "cell_type": "markdown",
   "source": "#Renaming",
   "id": "493c83a08919bead"
  },
  {
   "metadata": {
    "ExecuteTime": {
     "end_time": "2025-09-16T10:33:21.435084Z",
     "start_time": "2025-09-16T10:33:21.412674Z"
    }
   },
   "cell_type": "code",
   "source": [
    "#Rename the columns\n",
    "df_pyspark= df_pyspark.withColumnRenamed('Name','name')"
   ],
   "id": "d8c375a05318d169",
   "outputs": [],
   "execution_count": 47
  },
  {
   "metadata": {
    "ExecuteTime": {
     "end_time": "2025-09-16T10:33:30.706057Z",
     "start_time": "2025-09-16T10:33:30.481798Z"
    }
   },
   "cell_type": "code",
   "source": "df_pyspark.show()",
   "id": "25ff85c6ee9a805a",
   "outputs": [
    {
     "name": "stdout",
     "output_type": "stream",
     "text": [
      "+---------+---+----------+------+\n",
      "|     name|age|Experience|Salary|\n",
      "+---------+---+----------+------+\n",
      "|    Krish| 31|        10| 30000|\n",
      "|Sudhanshu| 30|         8| 25000|\n",
      "|    Sunny| 29|         4| 20000|\n",
      "|     Paul| 24|         3| 20000|\n",
      "|   Harsha| 21|         1| 15000|\n",
      "|  Shubham| 23|         2| 18000|\n",
      "+---------+---+----------+------+\n",
      "\n"
     ]
    }
   ],
   "execution_count": 48
  }
 ],
 "metadata": {
  "kernelspec": {
   "display_name": "Python 3",
   "language": "python",
   "name": "python3"
  },
  "language_info": {
   "codemirror_mode": {
    "name": "ipython",
    "version": 2
   },
   "file_extension": ".py",
   "mimetype": "text/x-python",
   "name": "python",
   "nbconvert_exporter": "python",
   "pygments_lexer": "ipython2",
   "version": "2.7.6"
  }
 },
 "nbformat": 4,
 "nbformat_minor": 5
}
