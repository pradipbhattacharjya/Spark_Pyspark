{
 "cells": [
  {
   "metadata": {},
   "cell_type": "markdown",
   "source": "- GroupBy And Aggregate Functions",
   "id": "9451555a8b1ea5ee"
  },
  {
   "cell_type": "code",
   "id": "initial_id",
   "metadata": {
    "collapsed": true,
    "ExecuteTime": {
     "end_time": "2025-09-18T00:57:50.561562Z",
     "start_time": "2025-09-18T00:57:50.288367Z"
    }
   },
   "source": "from pyspark.sql import SparkSession",
   "outputs": [],
   "execution_count": 1
  },
  {
   "metadata": {
    "ExecuteTime": {
     "end_time": "2025-09-18T00:59:27.596245Z",
     "start_time": "2025-09-18T00:59:27.029416Z"
    }
   },
   "cell_type": "code",
   "source": "spark=SparkSession.builder.appName('Agg').getOrCreate()",
   "id": "49dc8b30f7ee47b0",
   "outputs": [],
   "execution_count": 3
  },
  {
   "metadata": {
    "ExecuteTime": {
     "end_time": "2025-09-18T00:59:30.045417Z",
     "start_time": "2025-09-18T00:59:30.013320Z"
    }
   },
   "cell_type": "code",
   "source": "spark",
   "id": "84f8a2603fea120f",
   "outputs": [
    {
     "data": {
      "text/plain": [
       "<pyspark.sql.session.SparkSession at 0x193a4c0cc20>"
      ],
      "text/html": [
       "\n",
       "            <div>\n",
       "                <p><b>SparkSession - in-memory</b></p>\n",
       "                \n",
       "        <div>\n",
       "            <p><b>SparkContext</b></p>\n",
       "\n",
       "            <p><a href=\"http://pradip:4040\">Spark UI</a></p>\n",
       "\n",
       "            <dl>\n",
       "              <dt>Version</dt>\n",
       "                <dd><code>v4.0.1</code></dd>\n",
       "              <dt>Master</dt>\n",
       "                <dd><code>local[*]</code></dd>\n",
       "              <dt>AppName</dt>\n",
       "                <dd><code>Agg</code></dd>\n",
       "            </dl>\n",
       "        </div>\n",
       "        \n",
       "            </div>\n",
       "        "
      ]
     },
     "execution_count": 4,
     "metadata": {},
     "output_type": "execute_result"
    }
   ],
   "execution_count": 4
  },
  {
   "metadata": {
    "ExecuteTime": {
     "end_time": "2025-09-18T00:59:44.548389Z",
     "start_time": "2025-09-18T00:59:40.406270Z"
    }
   },
   "cell_type": "code",
   "source": "df_pyspark=spark.read.csv('test3.csv',header=True,inferSchema=True)",
   "id": "2ba5313e757fab8e",
   "outputs": [],
   "execution_count": 5
  },
  {
   "metadata": {
    "ExecuteTime": {
     "end_time": "2025-09-18T00:59:47.418928Z",
     "start_time": "2025-09-18T00:59:47.038724Z"
    }
   },
   "cell_type": "code",
   "source": "df_pyspark.show()",
   "id": "9805834d5b974bbd",
   "outputs": [
    {
     "name": "stdout",
     "output_type": "stream",
     "text": [
      "+---------+------------+------+\n",
      "|     Name| Departments|salary|\n",
      "+---------+------------+------+\n",
      "|    Krish|Data Science| 10000|\n",
      "|    Krish|         IOT|  5000|\n",
      "|   Mahesh|    Big Data|  4000|\n",
      "|    Krish|    Big Data|  4000|\n",
      "|   Mahesh|Data Science|  3000|\n",
      "|Sudhanshu|Data Science| 20000|\n",
      "|Sudhanshu|         IOT| 10000|\n",
      "|Sudhanshu|    Big Data|  5000|\n",
      "|    Sunny|Data Science| 10000|\n",
      "|    Sunny|    Big Data|  2000|\n",
      "+---------+------------+------+\n",
      "\n"
     ]
    }
   ],
   "execution_count": 6
  },
  {
   "metadata": {},
   "cell_type": "markdown",
   "source": [
    "- Groupby\n",
    "- Grouped to find the maximum salary"
   ],
   "id": "e9f3f9f8d9bdcd84"
  },
  {
   "metadata": {
    "ExecuteTime": {
     "end_time": "2025-09-18T01:07:42.469728Z",
     "start_time": "2025-09-18T01:07:40.193272Z"
    }
   },
   "cell_type": "code",
   "source": [
    "\n",
    "df_pyspark.groupBy('Name').sum().show()"
   ],
   "id": "f1bb7aec9ded955c",
   "outputs": [
    {
     "name": "stdout",
     "output_type": "stream",
     "text": [
      "+---------+-----------+\n",
      "|     Name|sum(salary)|\n",
      "+---------+-----------+\n",
      "|Sudhanshu|      35000|\n",
      "|    Sunny|      12000|\n",
      "|    Krish|      19000|\n",
      "|   Mahesh|       7000|\n",
      "+---------+-----------+\n",
      "\n"
     ]
    }
   ],
   "execution_count": 9
  },
  {
   "metadata": {},
   "cell_type": "code",
   "outputs": [],
   "execution_count": null,
   "source": "",
   "id": "cf5d40958c8c7874"
  }
 ],
 "metadata": {
  "kernelspec": {
   "display_name": "Python 3",
   "language": "python",
   "name": "python3"
  },
  "language_info": {
   "codemirror_mode": {
    "name": "ipython",
    "version": 2
   },
   "file_extension": ".py",
   "mimetype": "text/x-python",
   "name": "python",
   "nbconvert_exporter": "python",
   "pygments_lexer": "ipython2",
   "version": "2.7.6"
  }
 },
 "nbformat": 4,
 "nbformat_minor": 5
}
