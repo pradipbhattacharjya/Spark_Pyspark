{
 "cells": [
  {
   "cell_type": "code",
   "id": "initial_id",
   "metadata": {
    "collapsed": true,
    "ExecuteTime": {
     "end_time": "2025-09-16T09:49:17.978083Z",
     "start_time": "2025-09-16T09:49:17.972101Z"
    }
   },
   "source": "import pyspark",
   "outputs": [],
   "execution_count": 27
  },
  {
   "metadata": {
    "ExecuteTime": {
     "end_time": "2025-09-16T09:49:19.814708Z",
     "start_time": "2025-09-16T09:49:19.810623Z"
    }
   },
   "cell_type": "code",
   "source": "import pandas as pd",
   "id": "5155fae6ad7a9a56",
   "outputs": [],
   "execution_count": 28
  },
  {
   "metadata": {
    "ExecuteTime": {
     "end_time": "2025-09-16T09:49:21.699515Z",
     "start_time": "2025-09-16T09:49:21.503106Z"
    }
   },
   "cell_type": "code",
   "source": "pd.read_csv('test.csv')",
   "id": "6e8a1580938fcf01",
   "outputs": [
    {
     "data": {
      "text/plain": [
       "       Name  age\n",
       "0     Krish   31\n",
       "1  Sudhansh   30\n",
       "2     Sunny   29"
      ],
      "text/html": [
       "<div>\n",
       "<style scoped>\n",
       "    .dataframe tbody tr th:only-of-type {\n",
       "        vertical-align: middle;\n",
       "    }\n",
       "\n",
       "    .dataframe tbody tr th {\n",
       "        vertical-align: top;\n",
       "    }\n",
       "\n",
       "    .dataframe thead th {\n",
       "        text-align: right;\n",
       "    }\n",
       "</style>\n",
       "<table border=\"1\" class=\"dataframe\">\n",
       "  <thead>\n",
       "    <tr style=\"text-align: right;\">\n",
       "      <th></th>\n",
       "      <th>Name</th>\n",
       "      <th>age</th>\n",
       "    </tr>\n",
       "  </thead>\n",
       "  <tbody>\n",
       "    <tr>\n",
       "      <th>0</th>\n",
       "      <td>Krish</td>\n",
       "      <td>31</td>\n",
       "    </tr>\n",
       "    <tr>\n",
       "      <th>1</th>\n",
       "      <td>Sudhansh</td>\n",
       "      <td>30</td>\n",
       "    </tr>\n",
       "    <tr>\n",
       "      <th>2</th>\n",
       "      <td>Sunny</td>\n",
       "      <td>29</td>\n",
       "    </tr>\n",
       "  </tbody>\n",
       "</table>\n",
       "</div>"
      ]
     },
     "execution_count": 29,
     "metadata": {},
     "output_type": "execute_result"
    }
   ],
   "execution_count": 29
  },
  {
   "metadata": {
    "ExecuteTime": {
     "end_time": "2025-09-16T09:49:25.061502Z",
     "start_time": "2025-09-16T09:49:25.055275Z"
    }
   },
   "cell_type": "code",
   "source": "from pyspark.sql import SparkSession",
   "id": "c93aaade21936ade",
   "outputs": [],
   "execution_count": 30
  },
  {
   "metadata": {
    "ExecuteTime": {
     "end_time": "2025-09-16T09:49:27.915931Z",
     "start_time": "2025-09-16T09:49:27.822137Z"
    }
   },
   "cell_type": "code",
   "source": "spark=SparkSession.builder.appName('Practise').getOrCreate()",
   "id": "4b6ae2a0d78d8642",
   "outputs": [],
   "execution_count": 31
  },
  {
   "metadata": {
    "ExecuteTime": {
     "end_time": "2025-09-16T09:49:30.166414Z",
     "start_time": "2025-09-16T09:49:30.133030Z"
    }
   },
   "cell_type": "code",
   "source": "spark",
   "id": "8ba295b81a4715d3",
   "outputs": [
    {
     "data": {
      "text/plain": [
       "<pyspark.sql.session.SparkSession at 0x264832acc20>"
      ],
      "text/html": [
       "\n",
       "            <div>\n",
       "                <p><b>SparkSession - in-memory</b></p>\n",
       "                \n",
       "        <div>\n",
       "            <p><b>SparkContext</b></p>\n",
       "\n",
       "            <p><a href=\"http://pradip:4040\">Spark UI</a></p>\n",
       "\n",
       "            <dl>\n",
       "              <dt>Version</dt>\n",
       "                <dd><code>v4.0.1</code></dd>\n",
       "              <dt>Master</dt>\n",
       "                <dd><code>local[*]</code></dd>\n",
       "              <dt>AppName</dt>\n",
       "                <dd><code>Practise</code></dd>\n",
       "            </dl>\n",
       "        </div>\n",
       "        \n",
       "            </div>\n",
       "        "
      ]
     },
     "execution_count": 32,
     "metadata": {},
     "output_type": "execute_result"
    }
   ],
   "execution_count": 32
  },
  {
   "metadata": {
    "ExecuteTime": {
     "end_time": "2025-09-16T09:49:34.769156Z",
     "start_time": "2025-09-16T09:49:33.818151Z"
    }
   },
   "cell_type": "code",
   "source": [
    "\n",
    "df_pyspark=spark.read.csv('test.csv');"
   ],
   "id": "1f0e214bbf1510e2",
   "outputs": [],
   "execution_count": 33
  },
  {
   "metadata": {
    "ExecuteTime": {
     "end_time": "2025-09-16T09:49:36.815373Z",
     "start_time": "2025-09-16T09:49:36.809441Z"
    }
   },
   "cell_type": "code",
   "source": "df_pyspark",
   "id": "95cc289439454ba0",
   "outputs": [
    {
     "data": {
      "text/plain": [
       "DataFrame[_c0: string, _c1: string]"
      ]
     },
     "execution_count": 34,
     "metadata": {},
     "output_type": "execute_result"
    }
   ],
   "execution_count": 34
  },
  {
   "metadata": {
    "ExecuteTime": {
     "end_time": "2025-09-16T09:49:39.336516Z",
     "start_time": "2025-09-16T09:49:39.251924Z"
    }
   },
   "cell_type": "code",
   "source": "df_pyspark.show()",
   "id": "53ef6105ee6adcbf",
   "outputs": [
    {
     "name": "stdout",
     "output_type": "stream",
     "text": [
      "+--------+---+\n",
      "|     _c0|_c1|\n",
      "+--------+---+\n",
      "|    Name|age|\n",
      "|   Krish| 31|\n",
      "|Sudhansh| 30|\n",
      "|   Sunny| 29|\n",
      "+--------+---+\n",
      "\n"
     ]
    }
   ],
   "execution_count": 35
  },
  {
   "metadata": {
    "ExecuteTime": {
     "end_time": "2025-09-16T09:49:43.350707Z",
     "start_time": "2025-09-16T09:49:43.024866Z"
    }
   },
   "cell_type": "code",
   "source": "df_pyspark=spark.read.option('header','true').csv('test.csv').show()",
   "id": "77207e35d009da4b",
   "outputs": [
    {
     "name": "stdout",
     "output_type": "stream",
     "text": [
      "+--------+---+\n",
      "|    Name|age|\n",
      "+--------+---+\n",
      "|   Krish| 31|\n",
      "|Sudhansh| 30|\n",
      "|   Sunny| 29|\n",
      "+--------+---+\n",
      "\n"
     ]
    }
   ],
   "execution_count": 36
  },
  {
   "metadata": {
    "ExecuteTime": {
     "end_time": "2025-09-16T09:49:45.675140Z",
     "start_time": "2025-09-16T09:49:45.663915Z"
    }
   },
   "cell_type": "code",
   "source": "type(df_pyspark)",
   "id": "5dfd54a53c997917",
   "outputs": [
    {
     "data": {
      "text/plain": [
       "NoneType"
      ]
     },
     "execution_count": 37,
     "metadata": {},
     "output_type": "execute_result"
    }
   ],
   "execution_count": 37
  }
 ],
 "metadata": {
  "kernelspec": {
   "display_name": "Python 3",
   "language": "python",
   "name": "python3"
  },
  "language_info": {
   "codemirror_mode": {
    "name": "ipython",
    "version": 2
   },
   "file_extension": ".py",
   "mimetype": "text/x-python",
   "name": "python",
   "nbconvert_exporter": "python",
   "pygments_lexer": "ipython2",
   "version": "2.7.6"
  }
 },
 "nbformat": 4,
 "nbformat_minor": 5
}
