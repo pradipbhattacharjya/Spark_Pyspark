{
 "cells": [
  {
   "cell_type": "code",
   "id": "initial_id",
   "metadata": {
    "collapsed": true,
    "ExecuteTime": {
     "end_time": "2025-09-18T01:49:44.637544Z",
     "start_time": "2025-09-18T01:49:12.016877Z"
    }
   },
   "source": [
    "from pyspark.sql import SparkSession\n",
    "spark=SparkSession.builder.appName('Missing').getOrCreate()"
   ],
   "outputs": [],
   "execution_count": 1
  },
  {
   "metadata": {
    "ExecuteTime": {
     "end_time": "2025-09-18T01:51:45.133027Z",
     "start_time": "2025-09-18T01:51:41.159014Z"
    }
   },
   "cell_type": "code",
   "source": [
    "#Read The dataset\n",
    "training = spark.read.csv('test1.csv',header=True,inferSchema=True)\n"
   ],
   "id": "5ef1779a4786cf35",
   "outputs": [],
   "execution_count": 2
  },
  {
   "metadata": {
    "ExecuteTime": {
     "end_time": "2025-09-18T01:52:36.359156Z",
     "start_time": "2025-09-18T01:52:36.064633Z"
    }
   },
   "cell_type": "code",
   "source": "training.show()",
   "id": "73e581d86d679eaf",
   "outputs": [
    {
     "name": "stdout",
     "output_type": "stream",
     "text": [
      "+---------+---+----------+------+\n",
      "|     Name|age|Experience|Salary|\n",
      "+---------+---+----------+------+\n",
      "|    Krish| 31|        10| 30000|\n",
      "|Sudhanshu| 30|         8| 25000|\n",
      "|    Sunny| 29|         4| 20000|\n",
      "|     Paul| 24|         3| 20000|\n",
      "|   Harsha| 21|         1| 15000|\n",
      "|  Shubham| 23|         2| 18000|\n",
      "+---------+---+----------+------+\n",
      "\n"
     ]
    }
   ],
   "execution_count": 3
  },
  {
   "metadata": {
    "ExecuteTime": {
     "end_time": "2025-09-18T01:53:40.535Z",
     "start_time": "2025-09-18T01:53:40.521781Z"
    }
   },
   "cell_type": "code",
   "source": "training.printSchema()",
   "id": "e113072f20310311",
   "outputs": [
    {
     "name": "stdout",
     "output_type": "stream",
     "text": [
      "root\n",
      " |-- Name: string (nullable = true)\n",
      " |-- age: integer (nullable = true)\n",
      " |-- Experience: integer (nullable = true)\n",
      " |-- Salary: integer (nullable = true)\n",
      "\n"
     ]
    }
   ],
   "execution_count": 4
  },
  {
   "metadata": {
    "ExecuteTime": {
     "end_time": "2025-09-18T01:54:36.244660Z",
     "start_time": "2025-09-18T01:54:36.198415Z"
    }
   },
   "cell_type": "code",
   "source": "training.columns",
   "id": "cdc1db34c0ff4047",
   "outputs": [
    {
     "data": {
      "text/plain": [
       "['Name', 'age', 'Experience', 'Salary']"
      ]
     },
     "execution_count": 5,
     "metadata": {},
     "output_type": "execute_result"
    }
   ],
   "execution_count": 5
  },
  {
   "metadata": {},
   "cell_type": "code",
   "outputs": [],
   "execution_count": null,
   "source": "# [Age,Experience]---> new feature--->independent feature",
   "id": "50d47c4bf6639bc2"
  },
  {
   "metadata": {
    "ExecuteTime": {
     "end_time": "2025-09-18T02:04:14.330720Z",
     "start_time": "2025-09-18T02:04:13.242465Z"
    }
   },
   "cell_type": "code",
   "source": [
    "from pyspark.ml.feature import VectorAssembler\n",
    "featureassembler=VectorAssembler(inputCols=[\"age\",\"Experience\"],outputCol=\"IndependentFeatures\")\n"
   ],
   "id": "e71ef6cad70fde93",
   "outputs": [],
   "execution_count": 6
  },
  {
   "metadata": {
    "ExecuteTime": {
     "end_time": "2025-09-18T02:05:27.543764Z",
     "start_time": "2025-09-18T02:05:26.644611Z"
    }
   },
   "cell_type": "code",
   "source": "output =featureassembler.transform(training)",
   "id": "37e98440a110408e",
   "outputs": [],
   "execution_count": 7
  },
  {
   "metadata": {
    "ExecuteTime": {
     "end_time": "2025-09-18T02:05:43.009667Z",
     "start_time": "2025-09-18T02:05:42.005119Z"
    }
   },
   "cell_type": "code",
   "source": "output.show()",
   "id": "9e28a9da26b2b538",
   "outputs": [
    {
     "name": "stdout",
     "output_type": "stream",
     "text": [
      "+---------+---+----------+------+-------------------+\n",
      "|     Name|age|Experience|Salary|IndependentFeatures|\n",
      "+---------+---+----------+------+-------------------+\n",
      "|    Krish| 31|        10| 30000|        [31.0,10.0]|\n",
      "|Sudhanshu| 30|         8| 25000|         [30.0,8.0]|\n",
      "|    Sunny| 29|         4| 20000|         [29.0,4.0]|\n",
      "|     Paul| 24|         3| 20000|         [24.0,3.0]|\n",
      "|   Harsha| 21|         1| 15000|         [21.0,1.0]|\n",
      "|  Shubham| 23|         2| 18000|         [23.0,2.0]|\n",
      "+---------+---+----------+------+-------------------+\n",
      "\n"
     ]
    }
   ],
   "execution_count": 8
  },
  {
   "metadata": {
    "ExecuteTime": {
     "end_time": "2025-09-18T02:36:52.087988Z",
     "start_time": "2025-09-18T02:36:52.054896Z"
    }
   },
   "cell_type": "code",
   "source": "output.columns",
   "id": "cecd580ef059cd1d",
   "outputs": [
    {
     "data": {
      "text/plain": [
       "['Name', 'age', 'Experience', 'Salary', 'IndependentFeatures']"
      ]
     },
     "execution_count": 9,
     "metadata": {},
     "output_type": "execute_result"
    }
   ],
   "execution_count": 9
  },
  {
   "metadata": {
    "ExecuteTime": {
     "end_time": "2025-09-18T02:39:23.844145Z",
     "start_time": "2025-09-18T02:39:23.812170Z"
    }
   },
   "cell_type": "code",
   "source": "finalized_data = output.select(\"IndependentFeatures\",\"Salary\")",
   "id": "723b7ce05173c658",
   "outputs": [],
   "execution_count": 11
  },
  {
   "metadata": {
    "ExecuteTime": {
     "end_time": "2025-09-18T02:39:34.749716Z",
     "start_time": "2025-09-18T02:39:34.196495Z"
    }
   },
   "cell_type": "code",
   "source": "finalized_data.show()",
   "id": "e065bac5e22ff158",
   "outputs": [
    {
     "name": "stdout",
     "output_type": "stream",
     "text": [
      "+-------------------+------+\n",
      "|IndependentFeatures|Salary|\n",
      "+-------------------+------+\n",
      "|        [31.0,10.0]| 30000|\n",
      "|         [30.0,8.0]| 25000|\n",
      "|         [29.0,4.0]| 20000|\n",
      "|         [24.0,3.0]| 20000|\n",
      "|         [21.0,1.0]| 15000|\n",
      "|         [23.0,2.0]| 18000|\n",
      "+-------------------+------+\n",
      "\n"
     ]
    }
   ],
   "execution_count": 12
  },
  {
   "metadata": {
    "ExecuteTime": {
     "end_time": "2025-09-18T02:52:18.938218Z",
     "start_time": "2025-09-18T02:52:18.195489Z"
    }
   },
   "cell_type": "code",
   "source": [
    "from pyspark.ml.regression import  LinearRegression\n",
    "#train test split\n",
    "train_data,test_data=finalized_data.randomSplit([0.75,0.25])\n",
    "regressor=LinearRegression(featuresCol=\"IndependentFeatures\",labelCol=\"Salary\")\n",
    "regressor =regressor.fit(train_data)"
   ],
   "id": "d031f9a8430aad60",
   "outputs": [],
   "execution_count": 22
  },
  {
   "metadata": {
    "ExecuteTime": {
     "end_time": "2025-09-18T02:52:21.884300Z",
     "start_time": "2025-09-18T02:52:21.776014Z"
    }
   },
   "cell_type": "code",
   "source": [
    "##Cofficients\n",
    "regressor.coefficients"
   ],
   "id": "acb371700e79d402",
   "outputs": [
    {
     "data": {
      "text/plain": [
       "DenseVector([-64.8464, 1584.7554])"
      ]
     },
     "execution_count": 23,
     "metadata": {},
     "output_type": "execute_result"
    }
   ],
   "execution_count": 23
  },
  {
   "metadata": {
    "ExecuteTime": {
     "end_time": "2025-09-18T02:53:42.296845Z",
     "start_time": "2025-09-18T02:53:42.287615Z"
    }
   },
   "cell_type": "code",
   "source": [
    "#Intercepts\n",
    "regressor.intercept"
   ],
   "id": "e5ea9bdf01d99b10",
   "outputs": [
    {
     "data": {
      "text/plain": [
       "15414.10693970376"
      ]
     },
     "execution_count": 24,
     "metadata": {},
     "output_type": "execute_result"
    }
   ],
   "execution_count": 24
  },
  {
   "metadata": {
    "ExecuteTime": {
     "end_time": "2025-09-18T02:56:17.656082Z",
     "start_time": "2025-09-18T02:56:17.458400Z"
    }
   },
   "cell_type": "code",
   "source": [
    "#Prediction\n",
    "pred_results=regressor.evaluate(test_data)"
   ],
   "id": "62110ae4d81ae198",
   "outputs": [],
   "execution_count": 28
  },
  {
   "metadata": {
    "ExecuteTime": {
     "end_time": "2025-09-18T02:56:21.887356Z",
     "start_time": "2025-09-18T02:56:21.749695Z"
    }
   },
   "cell_type": "code",
   "source": "pred_results.predictions.show()",
   "id": "3d5fd9d585aad303",
   "outputs": [
    {
     "name": "stdout",
     "output_type": "stream",
     "text": [
      "+-------------------+------+------------------+\n",
      "|IndependentFeatures|Salary|        prediction|\n",
      "+-------------------+------+------------------+\n",
      "|         [24.0,3.0]| 20000|18612.059158134223|\n",
      "+-------------------+------+------------------+\n",
      "\n"
     ]
    }
   ],
   "execution_count": 29
  }
 ],
 "metadata": {
  "kernelspec": {
   "display_name": "Python 3",
   "language": "python",
   "name": "python3"
  },
  "language_info": {
   "codemirror_mode": {
    "name": "ipython",
    "version": 2
   },
   "file_extension": ".py",
   "mimetype": "text/x-python",
   "name": "python",
   "nbconvert_exporter": "python",
   "pygments_lexer": "ipython2",
   "version": "2.7.6"
  }
 },
 "nbformat": 4,
 "nbformat_minor": 5
}
